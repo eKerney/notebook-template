{
 "cells": [
  {
   "cell_type": "markdown",
   "id": "1155594b",
   "metadata": {},
   "source": [
    "# arcgis python and arcpy\n",
    "Examples to assist building arcpy geoprocessing tools  \n",
    "Visualize layers from arcgis pro with python api inside notebooks\n",
    "Developing helper function libraries to improve development experience\n",
    "Python files inside of `/src` folder "
   ]
  },
  {
   "cell_type": "markdown",
   "id": "02038ea8",
   "metadata": {},
   "source": [
    "## Imports"
   ]
  },
  {
   "cell_type": "code",
   "execution_count": 1,
   "id": "8192aa0b",
   "metadata": {},
   "outputs": [],
   "source": [
    "import importlib\n",
    "import pandas as pd\n",
    "import arcgis\n",
    "from arcgis.gis import GIS\n",
    "from arcgis.map import Map\n",
    "from arcgis.map import Scene\n",
    "from arcgis.features import GeoAccessor, GeoSeriesAccessor \n",
    "import src.main\n",
    "from src.main import get_GIS, get_map, search_content_return_item, add_layer_to_map\n",
    "from src.enums import Basemaps, ItemTypes\n",
    "import src.arcpy_helpers\n",
    "from src.arcpy_helpers import get_layer_from_aprx"
   ]
  },
  {
   "cell_type": "markdown",
   "id": "f9e5af54",
   "metadata": {},
   "source": [
    "## python api workflow\n",
    "- instantiate gis class with user prompt (leave blank for generic)\n",
    "- create a simple map\n",
    "- query a Living Atlas layer and add to map"
   ]
  },
  {
   "cell_type": "code",
   "execution_count": 2,
   "id": "bba47274",
   "metadata": {},
   "outputs": [
    {
     "data": {
      "text/html": [
       "GIS @ <a href=\"https://www.arcgis.com\">https://www.arcgis.com</a>"
      ],
      "text/plain": [
       "GIS @ https://www.arcgis.com version:2025.2"
      ]
     },
     "execution_count": 2,
     "metadata": {},
     "output_type": "execute_result"
    }
   ],
   "source": [
    "gis = get_GIS()\n",
    "gis"
   ]
  },
  {
   "cell_type": "code",
   "execution_count": 3,
   "id": "513787cf",
   "metadata": {},
   "outputs": [
    {
     "data": {
      "application/vnd.jupyter.widget-view+json": {
       "model_id": "28de9b25b1634d0ab10a9f365c2aca79",
       "version_major": 2,
       "version_minor": 1
      },
      "text/plain": [
       "Map(center=[5210983.557353356, -9244842.87066304], extent={'xmin': -9260761.557846477, 'ymin': 5189474.2405233…"
      ]
     },
     "execution_count": 3,
     "metadata": {},
     "output_type": "execute_result"
    }
   ],
   "source": [
    "map = get_map(gis, Basemaps.DARK_GRAY_VECTOR, 400, location='Detroit, MI')\n",
    "map"
   ]
  },
  {
   "cell_type": "code",
   "execution_count": 4,
   "id": "8686013b",
   "metadata": {},
   "outputs": [
    {
     "name": "stdout",
     "output_type": "stream",
     "text": [
      "0 US Geothermal, Hydro, and Nuclear facilities\n",
      "1 Live Stream Gauges\n",
      "2 Power Plants in the U.S.\n",
      "3 USA Soils Map Units (NRCS)\n",
      "4 Yellowstone Hydrography\n",
      "5 Great Lakes Shorelines - Low Resolution\n",
      "6 National Hydrography Dataset Plus High Resolution\n",
      "7 Global Dams and Reservoirs\n",
      "8 AGOL_VIEW_NEW_Yellow_Fever_Vaccination_Recommendations_2013-2019\n",
      "9 Drainage Boundaries Maintained - Watersheds\n",
      "10 YELL HYDRO LAKES\n",
      "11 Ontario Hydro Network (OHN) 10M Watercourse\n",
      "12 Shellfish Classification\n",
      "13 ORNL Existing Hydropower Assets (EHA)\n",
      "14 CPWAdminData\n",
      "15 Utility Line\n",
      "16 BASE_Hydrology\n",
      "17 National Hydrography Dataset Plus Version 2.1\n",
      "18 Global Power Plants (2018)\n",
      "19 HydroBasins Pfafstetter Level5 with lakes-Africa\n",
      "20 Major California Rivers\n",
      "21 USGS Watershed Boundary Dataset\n",
      "22 Hydrostream SHP\n",
      "23 Hydrography_Surface\n",
      "24 Fond de carte\n",
      "25 New_2019_ODFW_Barriers_Within_priority_Watersheds\n",
      "26 Intersect of Grazing Allotment and Hydrologic Unit_Marina_Scheepers\n",
      "27 NC/SC Streams\n",
      "28 hy_test/Hydro Point of Interest - Falls\n",
      "29 FLOW Water Wells - West Central Lower Peninsula\n"
     ]
    },
    {
     "data": {
      "text/html": [
       "<div class=\"item_container\" style=\"height: auto; overflow: hidden; border: 1px solid #cfcfcf; border-radius: 2px; background: #f6fafa; line-height: 1.21429em; padding: 10px;\">\n",
       "                    <div class=\"item_left\" style=\"width: 210px; float: left;\">\n",
       "                       <a href='https://www.arcgis.com/home/item.html?id=81c5a9f2a2704d54a49042a44eefa5d3' target='_blank'>\n",
       "                        <img src='https://www.arcgis.com/sharing/rest//content/items/81c5a9f2a2704d54a49042a44eefa5d3/info/thumbnail/thumbnail1611812781826.jpeg' class=\"itemThumbnail\">\n",
       "                       </a>\n",
       "                    </div>\n",
       "\n",
       "                    <div class=\"item_right\"     style=\"float: none; width: auto; overflow: hidden;\">\n",
       "                        <a href='https://www.arcgis.com/home/item.html?id=81c5a9f2a2704d54a49042a44eefa5d3' target='_blank'><b>Live Stream Gauges</b>\n",
       "                        </a>\n",
       "                        <br/>Stream gauge observations of stage height and discharge contributed by the global GIS community.<br/><img src='https://www.arcgis.com/home/js/jsapi/esri/css/images/item_type_icons/featureshosted16.png' style=\"vertical-align:middle;\" width=16 height=16>Feature Layer Collection by esri_livefeeds2\n",
       "                        <br/>Last Modified: June 04, 2025\n",
       "                        <br/>83 comments, 13,990,069 views\n",
       "                    </div>\n",
       "                </div>\n",
       "                "
      ],
      "text/plain": [
       "<Item title:\"Live Stream Gauges\" type:Feature Layer Collection owner:esri_livefeeds2>"
      ]
     },
     "execution_count": 4,
     "metadata": {},
     "output_type": "execute_result"
    }
   ],
   "source": [
    "importlib.reload(src.main)\n",
    "layer = search_content_return_item(gis, 'old growth forest', 30, ItemTypes.FEATURE_SERVICE)\n",
    "layer"
   ]
  },
  {
   "cell_type": "code",
   "execution_count": 5,
   "id": "e54cf0da",
   "metadata": {},
   "outputs": [
    {
     "data": {
      "application/vnd.jupyter.widget-view+json": {
       "model_id": "28de9b25b1634d0ab10a9f365c2aca79",
       "version_major": 2,
       "version_minor": 1
      },
      "text/plain": [
       "Map(center=[-82.82479651617037, 42.26920231167824], extent={'xmin': -19662547.2284, 'ymin': -21380628.8322, 'x…"
      ]
     },
     "execution_count": 5,
     "metadata": {},
     "output_type": "execute_result"
    }
   ],
   "source": [
    "importlib.reload(src.main)\n",
    "from src.main import add_layer_to_map\n",
    "add_layer_to_map(map, layer)\n",
    "map"
   ]
  },
  {
   "cell_type": "markdown",
   "id": "23bccd36",
   "metadata": {},
   "source": [
    "#### 3D Scene Widget"
   ]
  },
  {
   "cell_type": "code",
   "execution_count": null,
   "id": "0e382988",
   "metadata": {},
   "outputs": [],
   "source": [
    "scene = Scene()\n",
    "world_timezones_item = gis.content.get('312cebfea2624e108e234220b04460b8')\n",
    "scene.content.add(world_timezones_item)\n",
    "scene"
   ]
  },
  {
   "cell_type": "markdown",
   "id": "a72a16e4",
   "metadata": {},
   "source": [
    "## arcpy local data"
   ]
  },
  {
   "cell_type": "code",
   "execution_count": null,
   "id": "087975f0",
   "metadata": {},
   "outputs": [
    {
     "name": "stdout",
     "output_type": "stream",
     "text": [
           ]
    }
   ],
   "source": [
    "# load local map project and to find layers \n",
    "importlib.reload(src.arcpy_helpers)\n",
    "from src.arcpy_helpers import get_layer_from_aprx\n",
    "project_path = r\"C:\\Users\\EricKerney\\Documents\\ArcGIS\\Projects\\mort_gen\\mort_gen.aprx\"\n",
    "layer = get_layer_from_aprx(project_path)"
   ]
  },
  {
   "cell_type": "markdown",
   "id": "3a0fdeed",
   "metadata": {},
   "source": [
    "#### Create spatially enabled dataframe from local feature class"
   ]
  },
  {
   "cell_type": "code",
   "execution_count": 15,
   "id": "824462b4",
   "metadata": {},
   "outputs": [
    {
     "data": {
      "text/html": [
       "<div>\n",
       "<style scoped>\n",
       "    .dataframe tbody tr th:only-of-type {\n",
       "        vertical-align: middle;\n",
       "    }\n",
       "\n",
       "    .dataframe tbody tr th {\n",
       "        vertical-align: top;\n",
       "    }\n",
       "\n",
       "    .dataframe thead th {\n",
       "        text-align: right;\n",
       "    }\n",
       "</style>\n",
       "<table border=\"1\" class=\"dataframe\">\n",
       "  <thead>\n",
       "    <tr style=\"text-align: right;\">\n",
       "      <th></th>\n",
       "      <th>OBJECTID</th>\n",
       "      <th>Name</th>\n",
       "      <th>FolderPath</th>\n",
       "      <th>SymbolID</th>\n",
       "      <th>AltMode</th>\n",
       "      <th>Base</th>\n",
       "      <th>Clamped</th>\n",
       "      <th>Extruded</th>\n",
       "      <th>Snippet</th>\n",
       "      <th>PopupInfo</th>\n",
       "      <th>parsed_html_table</th>\n",
       "      <th>Project_ID</th>\n",
       "      <th>Project_Name</th>\n",
       "      <th>Intake_Date</th>\n",
       "      <th>Parsed_Field_1</th>\n",
       "      <th>Parsed_Field_2</th>\n",
       "      <th>Parsed_Field_3</th>\n",
       "      <th>Shape__Length</th>\n",
       "      <th>GlobalID</th>\n",
       "      <th>SHAPE</th>\n",
       "    </tr>\n",
       "  </thead>\n",
       "  <tbody>\n",
       "    <tr>\n",
       "      <th>0</th>\n",
       "      <td>1</td>\n",
       "      <td>Placemark</td>\n",
       "      <td>tline clean.kmz/tline clean/Data Center Line/P...</td>\n",
       "      <td>3</td>\n",
       "      <td>0</td>\n",
       "      <td>0.0</td>\n",
       "      <td>0</td>\n",
       "      <td>0</td>\n",
       "      <td></td>\n",
       "      <td></td>\n",
       "      <td>{}</td>\n",
       "      <td>&lt;NA&gt;</td>\n",
       "      <td>&lt;NA&gt;</td>\n",
       "      <td>&lt;NA&gt;</td>\n",
       "      <td>Data Center Line</td>\n",
       "      <td>PLS-CADD Model</td>\n",
       "      <td>Section #1, 0kV, 'AC-74-552_72 FIBERS - Slack'...</td>\n",
       "      <td>&lt;NA&gt;</td>\n",
       "      <td>{29bb8e92-20cb-436f-9142-f13f54fb2fd7}</td>\n",
       "      <td>{\"hasZ\": true, \"paths\": [[[-100.71726451799998...</td>\n",
       "    </tr>\n",
       "    <tr>\n",
       "      <th>1</th>\n",
       "      <td>2</td>\n",
       "      <td>Placemark</td>\n",
       "      <td>tline clean.kmz/tline clean/Data Center Line/P...</td>\n",
       "      <td>2</td>\n",
       "      <td>0</td>\n",
       "      <td>0.0</td>\n",
       "      <td>0</td>\n",
       "      <td>0</td>\n",
       "      <td></td>\n",
       "      <td></td>\n",
       "      <td>{}</td>\n",
       "      <td>&lt;NA&gt;</td>\n",
       "      <td>&lt;NA&gt;</td>\n",
       "      <td>&lt;NA&gt;</td>\n",
       "      <td>Data Center Line</td>\n",
       "      <td>PLS-CADD Model</td>\n",
       "      <td>Section #1, 0kV, 'AC-74-552_72 FIBERS - Slack'...</td>\n",
       "      <td>&lt;NA&gt;</td>\n",
       "      <td>{ce39c707-1998-4000-bb1f-9faef575b18f}</td>\n",
       "      <td>{\"hasZ\": true, \"paths\": [[[-100.71686093099999...</td>\n",
       "    </tr>\n",
       "    <tr>\n",
       "      <th>2</th>\n",
       "      <td>3</td>\n",
       "      <td>Placemark</td>\n",
       "      <td>tline clean.kmz/tline clean/Data Center Line/P...</td>\n",
       "      <td>3</td>\n",
       "      <td>0</td>\n",
       "      <td>0.0</td>\n",
       "      <td>0</td>\n",
       "      <td>0</td>\n",
       "      <td></td>\n",
       "      <td></td>\n",
       "      <td>{}</td>\n",
       "      <td>&lt;NA&gt;</td>\n",
       "      <td>&lt;NA&gt;</td>\n",
       "      <td>&lt;NA&gt;</td>\n",
       "      <td>Data Center Line</td>\n",
       "      <td>PLS-CADD Model</td>\n",
       "      <td>Section #2, 0kV, 'AC-74-552_72 FIBERS - Slack'...</td>\n",
       "      <td>&lt;NA&gt;</td>\n",
       "      <td>{1924a298-ee70-43a4-be9e-4ef6bd1bcc33}</td>\n",
       "      <td>{\"hasZ\": true, \"paths\": [[[-100.71726442499994...</td>\n",
       "    </tr>\n",
       "    <tr>\n",
       "      <th>3</th>\n",
       "      <td>4</td>\n",
       "      <td>Placemark</td>\n",
       "      <td>tline clean.kmz/tline clean/Data Center Line/P...</td>\n",
       "      <td>2</td>\n",
       "      <td>0</td>\n",
       "      <td>0.0</td>\n",
       "      <td>0</td>\n",
       "      <td>0</td>\n",
       "      <td></td>\n",
       "      <td></td>\n",
       "      <td>{}</td>\n",
       "      <td>&lt;NA&gt;</td>\n",
       "      <td>&lt;NA&gt;</td>\n",
       "      <td>&lt;NA&gt;</td>\n",
       "      <td>Data Center Line</td>\n",
       "      <td>PLS-CADD Model</td>\n",
       "      <td>Section #2, 0kV, 'AC-74-552_72 FIBERS - Slack'...</td>\n",
       "      <td>&lt;NA&gt;</td>\n",
       "      <td>{7d01aef6-b62b-4217-85b5-13fbb445f200}</td>\n",
       "      <td>{\"hasZ\": true, \"paths\": [[[-100.71686096499997...</td>\n",
       "    </tr>\n",
       "    <tr>\n",
       "      <th>4</th>\n",
       "      <td>5</td>\n",
       "      <td>Placemark</td>\n",
       "      <td>tline clean.kmz/tline clean/Data Center Line/P...</td>\n",
       "      <td>3</td>\n",
       "      <td>0</td>\n",
       "      <td>0.0</td>\n",
       "      <td>0</td>\n",
       "      <td>0</td>\n",
       "      <td></td>\n",
       "      <td></td>\n",
       "      <td>{}</td>\n",
       "      <td>&lt;NA&gt;</td>\n",
       "      <td>&lt;NA&gt;</td>\n",
       "      <td>&lt;NA&gt;</td>\n",
       "      <td>Data Center Line</td>\n",
       "      <td>PLS-CADD Model</td>\n",
       "      <td>Section #3, 0kV, 'AC-74-552_72 FIBERS', from S...</td>\n",
       "      <td>&lt;NA&gt;</td>\n",
       "      <td>{d8b562ef-fb4d-4ebd-9b9d-3a25c088e098}</td>\n",
       "      <td>{\"hasZ\": true, \"paths\": [[[-100.71719731299999...</td>\n",
       "    </tr>\n",
       "  </tbody>\n",
       "</table>\n",
       "</div>"
      ],
      "text/plain": [
       "   OBJECTID       Name                                         FolderPath  \\\n",
       "0         1  Placemark  tline clean.kmz/tline clean/Data Center Line/P...   \n",
       "1         2  Placemark  tline clean.kmz/tline clean/Data Center Line/P...   \n",
       "2         3  Placemark  tline clean.kmz/tline clean/Data Center Line/P...   \n",
       "3         4  Placemark  tline clean.kmz/tline clean/Data Center Line/P...   \n",
       "4         5  Placemark  tline clean.kmz/tline clean/Data Center Line/P...   \n",
       "\n",
       "   SymbolID  AltMode  Base  Clamped  Extruded Snippet PopupInfo  \\\n",
       "0         3        0   0.0        0         0                     \n",
       "1         2        0   0.0        0         0                     \n",
       "2         3        0   0.0        0         0                     \n",
       "3         2        0   0.0        0         0                     \n",
       "4         3        0   0.0        0         0                     \n",
       "\n",
       "  parsed_html_table Project_ID Project_Name Intake_Date    Parsed_Field_1  \\\n",
       "0                {}       <NA>         <NA>        <NA>  Data Center Line   \n",
       "1                {}       <NA>         <NA>        <NA>  Data Center Line   \n",
       "2                {}       <NA>         <NA>        <NA>  Data Center Line   \n",
       "3                {}       <NA>         <NA>        <NA>  Data Center Line   \n",
       "4                {}       <NA>         <NA>        <NA>  Data Center Line   \n",
       "\n",
       "   Parsed_Field_2                                     Parsed_Field_3  \\\n",
       "0  PLS-CADD Model  Section #1, 0kV, 'AC-74-552_72 FIBERS - Slack'...   \n",
       "1  PLS-CADD Model  Section #1, 0kV, 'AC-74-552_72 FIBERS - Slack'...   \n",
       "2  PLS-CADD Model  Section #2, 0kV, 'AC-74-552_72 FIBERS - Slack'...   \n",
       "3  PLS-CADD Model  Section #2, 0kV, 'AC-74-552_72 FIBERS - Slack'...   \n",
       "4  PLS-CADD Model  Section #3, 0kV, 'AC-74-552_72 FIBERS', from S...   \n",
       "\n",
       "   Shape__Length                                GlobalID  \\\n",
       "0           <NA>  {29bb8e92-20cb-436f-9142-f13f54fb2fd7}   \n",
       "1           <NA>  {ce39c707-1998-4000-bb1f-9faef575b18f}   \n",
       "2           <NA>  {1924a298-ee70-43a4-be9e-4ef6bd1bcc33}   \n",
       "3           <NA>  {7d01aef6-b62b-4217-85b5-13fbb445f200}   \n",
       "4           <NA>  {d8b562ef-fb4d-4ebd-9b9d-3a25c088e098}   \n",
       "\n",
       "                                               SHAPE  \n",
       "0  {\"hasZ\": true, \"paths\": [[[-100.71726451799998...  \n",
       "1  {\"hasZ\": true, \"paths\": [[[-100.71686093099999...  \n",
       "2  {\"hasZ\": true, \"paths\": [[[-100.71726442499994...  \n",
       "3  {\"hasZ\": true, \"paths\": [[[-100.71686096499997...  \n",
       "4  {\"hasZ\": true, \"paths\": [[[-100.71719731299999...  "
      ]
     },
     "execution_count": 15,
     "metadata": {},
     "output_type": "execute_result"
    }
   ],
   "source": [
    "sdf = pd.DataFrame.spatial.from_featureclass(location=layer)\n",
    "sdf.head()"
   ]
  },
  {
   "cell_type": "code",
   "execution_count": 16,
   "id": "ff7ccce8",
   "metadata": {},
   "outputs": [
    {
     "data": {
      "application/vnd.jupyter.widget-view+json": {
       "model_id": "2ba541edbf1944798be5036ad178f937",
       "version_major": 2,
       "version_minor": 1
      },
      "text/plain": [
       "Map(extent={'spatialReference': SpatialReference({'wkid': 4326, 'latestWkid': 4326, 'vcsWkid': 5773, 'latestVc…"
      ]
     },
     "execution_count": 16,
     "metadata": {},
     "output_type": "execute_result"
    }
   ],
   "source": [
    "sdf.spatial.plot()"
   ]
  },
  {
   "cell_type": "code",
   "execution_count": 19,
   "id": "63ec1c54",
   "metadata": {},
   "outputs": [
    {
     "data": {
      "application/vnd.jupyter.widget-view+json": {
       "model_id": "36c80582f8e3419e853e69361d7b9796",
       "version_major": 2,
       "version_minor": 1
      },
      "text/plain": [
       "Map(extent={'xmin': -100.71726454799995, 'ymin': 35.565718143000026, 'xmax': -100.70157069499999, 'ymax': 35.5…"
      ]
     },
     "execution_count": 19,
     "metadata": {},
     "output_type": "execute_result"
    }
   ],
   "source": [
    "map = get_map(gis, Basemaps.DARK_GRAY_VECTOR, 500)\n",
    "extent = sdf.spatial.full_extent  \n",
    "sdf.spatial.plot(\n",
    "    map_widget=map,  \n",
    "    renderer_type=\"s\",\n",
    "    colors='red',\n",
    "    marker_size=10,\n",
    "    alpha=0.7,\n",
    "    zoom=10,\n",
    "    line_width=3\n",
    ")\n",
    "map.extent = {\n",
    "    \"xmin\": extent[0],\n",
    "    \"ymin\": extent[1],\n",
    "    \"xmax\": extent[2],\n",
    "    \"ymax\": extent[3],\n",
    "    \"spatialReference\": {\"wkid\": sdf.spatial.sr.wkid}  # Use SEDF's spatial reference\n",
    "}\n",
    "map"
   ]
  }
 ],
 "metadata": {
  "kernelspec": {
   "display_name": "arcgispro-py3",
   "language": "python",
   "name": "python3"
  },
  "language_info": {
   "codemirror_mode": {
    "name": "ipython",
    "version": 3
   },
   "file_extension": ".py",
   "mimetype": "text/x-python",
   "name": "python",
   "nbconvert_exporter": "python",
   "pygments_lexer": "ipython3",
   "version": "3.11.11"
  }
 },
 "nbformat": 4,
 "nbformat_minor": 5
}
