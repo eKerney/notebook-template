{
 "cells": [
  {
   "cell_type": "code",
   "execution_count": null,
   "id": "8192aa0b",
   "metadata": {},
   "outputs": [
    {
     "data": {
      "text/plain": [
       "<module 'src.main' from '/Users/erickerney/dev/py-dev/notebook-template/src/main.py'>"
      ]
     },
     "execution_count": 21,
     "metadata": {},
     "output_type": "execute_result"
    }
   ],
   "source": [
    "import importlib\n",
    "import pandas as pd\n",
    "import arcgis\n",
    "from arcgis.gis import GIS\n",
    "from arcgis.map import Map\n",
    "from arcgis.map import Scene\n",
    "import src.main\n",
    "from src.main import get_GIS, get_map, search_content_return_item\n",
    "importlib.reload(src.main)\n",
    "from src.enums import Basemaps, ItemTypes"
   ]
  },
  {
   "cell_type": "code",
   "execution_count": 42,
   "id": "bba47274",
   "metadata": {},
   "outputs": [
    {
     "data": {
      "text/html": [
       "GIS @ <a href=\"https://www.arcgis.com\">https://www.arcgis.com</a>"
      ],
      "text/plain": [
       "GIS @ https://www.arcgis.com version:2025.2"
      ]
     },
     "execution_count": 42,
     "metadata": {},
     "output_type": "execute_result"
    }
   ],
   "source": [
    "gis = get_GIS()\n",
    "gis"
   ]
  },
  {
   "cell_type": "code",
   "execution_count": null,
   "id": "513787cf",
   "metadata": {},
   "outputs": [
    {
     "data": {
      "application/vnd.jupyter.widget-view+json": {
       "model_id": "25b50678ecca4f0aa97c79a4292452aa",
       "version_major": 2,
       "version_minor": 1
      },
      "text/plain": [
       "Map(extent={'xmin': -15000000, 'ymin': 2700000, 'xmax': -6200000, 'ymax': 6500000, 'spatialReference': {'wkid'…"
      ]
     },
     "execution_count": 43,
     "metadata": {},
     "output_type": "execute_result"
    }
   ],
   "source": [
    "importlib.reload(src.main)\n",
    "map = get_map(gis, Basemaps.DARK_GRAY_VECTOR, 300)\n",
    "map"
   ]
  },
  {
   "cell_type": "code",
   "execution_count": null,
   "id": "8686013b",
   "metadata": {},
   "outputs": [
    {
     "name": "stdout",
     "output_type": "stream",
     "text": [
      "0 US Geothermal, Hydro, and Nuclear facilities\n",
      "1 Live Stream Gauges\n",
      "2 Power Plants in the U.S.\n",
      "3 USA Soils Map Units (NRCS)\n",
      "4 Yellowstone Hydrography\n",
      "5 National Hydrography Dataset Plus High Resolution\n",
      "6 Great Lakes Shorelines\n",
      "7 Global Dams and Reservoirs\n",
      "8 YELL HYDRO LAKES\n",
      "9 Ontario Hydro Network (OHN) 10M Watercourse\n",
      "10 Drainage Boundaries Maintained - Watersheds\n",
      "11 AGOL_VIEW_NEW_Yellow_Fever_Vaccination_Recommendations_2013-2019\n",
      "12 Shellfish Classification\n",
      "13 Utility Line\n",
      "14 ORNL Existing Hydropower Assets (EHA)\n",
      "15 CPWAdminData\n",
      "16 BASE_Hydrology\n",
      "17 National Hydrography Dataset Plus Version 2.1\n",
      "18 Global Power Plants (2018)\n",
      "19 HydroBasins Pfafstetter Level5 with lakes-Africa\n",
      "20 Major California Rivers\n",
      "21 USGS Watershed Boundary Dataset\n",
      "22 Hydrostream SHP\n",
      "23 Hydrography_Surface\n",
      "24 Fond de carte\n",
      "25 New_2019_ODFW_Barriers_Within_priority_Watersheds\n",
      "26 Intersect of Grazing Allotment and Hydrologic Unit_Marina_Scheepers\n",
      "27 NC/SC Streams\n",
      "28 hy_test/Hydro Point of Interest - Falls\n",
      "29 FLOW Water Wells - West Central Lower Peninsula\n"
     ]
    },
    {
     "data": {
      "text/html": [
       "<div class=\"item_container\" style=\"height: auto; overflow: hidden; border: 1px solid #cfcfcf; border-radius: 2px; background: #f6fafa; line-height: 1.21429em; padding: 10px;\">\n",
       "                    <div class=\"item_left\" style=\"width: 210px; float: left;\">\n",
       "                       <a href='https://www.arcgis.com/home/item.html?id=81c5a9f2a2704d54a49042a44eefa5d3' target='_blank'>\n",
       "                        <img src='https://www.arcgis.com/sharing/rest//content/items/81c5a9f2a2704d54a49042a44eefa5d3/info/thumbnail/thumbnail1611812781826.jpeg' class=\"itemThumbnail\">\n",
       "                       </a>\n",
       "                    </div>\n",
       "\n",
       "                    <div class=\"item_right\"     style=\"float: none; width: auto; overflow: hidden;\">\n",
       "                        <a href='https://www.arcgis.com/home/item.html?id=81c5a9f2a2704d54a49042a44eefa5d3' target='_blank'><b>Live Stream Gauges</b>\n",
       "                        </a>\n",
       "                        <br/>Stream gauge observations of stage height and discharge contributed by the global GIS community.<br/><img src='https://www.arcgis.com/home/js/jsapi/esri/css/images/item_type_icons/featureshosted16.png' style=\"vertical-align:middle;\" width=16 height=16>Feature Layer Collection by esri_livefeeds2\n",
       "                        <br/>Last Modified: June 04, 2025\n",
       "                        <br/>83 comments, 13973614 views\n",
       "                    </div>\n",
       "                </div>\n",
       "                "
      ],
      "text/plain": [
       "<Item title:\"Live Stream Gauges\" type:Feature Layer Collection owner:esri_livefeeds2>"
      ]
     },
     "execution_count": 41,
     "metadata": {},
     "output_type": "execute_result"
    }
   ],
   "source": [
    "importlib.reload(src.main)\n",
    "layer = search_content_return_item(\n",
    "    gis, \n",
    "    'old growth forest', \n",
    "    30, \n",
    "    ItemTypes.FEATURE_SERVICE\n",
    "    )\n",
    "layer"
   ]
  },
  {
   "cell_type": "code",
   "execution_count": 44,
   "id": "0e382988",
   "metadata": {},
   "outputs": [
    {
     "data": {
      "application/vnd.jupyter.widget-view+json": {
       "model_id": "7cf6ad0832744efcbc31aef9c26f6503",
       "version_major": 2,
       "version_minor": 1
      },
      "text/plain": [
       "Scene(camera={'heading': 0.0, 'position': {'spatialReference': {'latestWkid': 3857, 'wkid': 102100}, 'x': -106…"
      ]
     },
     "execution_count": 44,
     "metadata": {},
     "output_type": "execute_result"
    }
   ],
   "source": [
    "scene = Scene()\n",
    "world_timezones_item = gis.content.get('312cebfea2624e108e234220b04460b8')\n",
    "scene.content.add(world_timezones_item)\n",
    "scene"
   ]
  }
 ],
 "metadata": {
  "kernelspec": {
   "display_name": "src",
   "language": "python",
   "name": "python3"
  },
  "language_info": {
   "codemirror_mode": {
    "name": "ipython",
    "version": 3
   },
   "file_extension": ".py",
   "mimetype": "text/x-python",
   "name": "python",
   "nbconvert_exporter": "python",
   "pygments_lexer": "ipython3",
   "version": "3.12.7"
  }
 },
 "nbformat": 4,
 "nbformat_minor": 5
}
