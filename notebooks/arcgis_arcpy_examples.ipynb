{
 "cells": [
  {
   "cell_type": "code",
   "execution_count": 21,
   "id": "8192aa0b",
   "metadata": {},
   "outputs": [
    {
     "data": {
      "text/plain": [
       "<module 'src.main' from '/Users/erickerney/dev/py-dev/notebook-template/src/main.py'>"
      ]
     },
     "execution_count": 21,
     "metadata": {},
     "output_type": "execute_result"
    }
   ],
   "source": [
    "import importlib\n",
    "import pandas as pd\n",
    "import arcgis\n",
    "from arcgis.gis import GIS\n",
    "from arcgis.map import Map\n",
    "from arcgis.map import Scene\n",
    "import src.main\n",
    "from src.main import get_GIS, get_map, Basemaps\n",
    "\n",
    "importlib.reload(src.main)"
   ]
  },
  {
   "cell_type": "code",
   "execution_count": 23,
   "id": "bba47274",
   "metadata": {},
   "outputs": [
    {
     "data": {
      "text/html": [
       "GIS @ <a href=\"https://www.arcgis.com\">https://www.arcgis.com</a>"
      ],
      "text/plain": [
       "GIS @ https://www.arcgis.com version:2025.2"
      ]
     },
     "execution_count": 23,
     "metadata": {},
     "output_type": "execute_result"
    }
   ],
   "source": [
    "gis = get_GIS()\n",
    "gis"
   ]
  },
  {
   "cell_type": "code",
   "execution_count": null,
   "id": "513787cf",
   "metadata": {},
   "outputs": [
    {
     "data": {
      "application/vnd.jupyter.widget-view+json": {
       "model_id": "aa9cdacac70a43d980d8cd0f82ce6904",
       "version_major": 2,
       "version_minor": 1
      },
      "text/plain": [
       "Map(extent={'xmin': -15000000, 'ymin': 2700000, 'xmax': -6200000, 'ymax': 6500000, 'spatialReference': {'wkid'…"
      ]
     },
     "execution_count": 29,
     "metadata": {},
     "output_type": "execute_result"
    }
   ],
   "source": [
    "importlib.reload(src.main)\n",
    "from src.main import get_map\n",
    "map = get_map(gis, Basemaps.DARK_GRAY_VECTOR, 400)\n",
    "map"
   ]
  },
  {
   "cell_type": "code",
   "execution_count": 9,
   "id": "965afa90",
   "metadata": {},
   "outputs": [
    {
     "data": {
      "text/plain": [
       "['satellite',\n",
       " 'hybrid',\n",
       " 'terrain',\n",
       " 'oceans',\n",
       " 'osm',\n",
       " 'dark-gray-vector',\n",
       " 'gray-vector',\n",
       " 'streets-vector',\n",
       " 'topo-vector',\n",
       " 'streets-night-vector',\n",
       " 'streets-relief-vector',\n",
       " 'streets-navigation-vector',\n",
       " 'arcgis-imagery',\n",
       " 'arcgis-imagery-standard',\n",
       " 'arcgis-imagery-labels',\n",
       " 'arcgis-light-gray',\n",
       " 'arcgis-dark-gray',\n",
       " 'arcgis-navigation',\n",
       " 'arcgis-navigation-night',\n",
       " 'arcgis-streets',\n",
       " 'arcgis-streets-night',\n",
       " 'arcgis-streets-relief',\n",
       " 'arcgis-topographic',\n",
       " 'arcgis-oceans',\n",
       " 'osm-standard',\n",
       " 'osm-standard-relief',\n",
       " 'osm-streets',\n",
       " 'osm-streets-relief',\n",
       " 'osm-light-gray',\n",
       " 'osm-dark-gray',\n",
       " 'arcgis-terrain',\n",
       " 'arcgis-community',\n",
       " 'arcgis-charted-territory',\n",
       " 'arcgis-colored-pencil',\n",
       " 'arcgis-nova',\n",
       " 'arcgis-modern-antique',\n",
       " 'arcgis-midcentury',\n",
       " 'arcgis-newspaper',\n",
       " 'arcgis-hillshade-light',\n",
       " 'arcgis-hillshade-dark',\n",
       " 'arcgis-human-geography',\n",
       " 'arcgis-human-geography-dark']"
      ]
     },
     "execution_count": 9,
     "metadata": {},
     "output_type": "execute_result"
    }
   ],
   "source": [
    "map = Map()\n",
    "map.basemap.basemaps"
   ]
  },
  {
   "cell_type": "code",
   "execution_count": null,
   "id": "0e038993",
   "metadata": {},
   "outputs": [
    {
     "data": {
      "text/plain": [
       "[<Item title:\"USA Major Cities\" type:Feature Layer Collection owner:esri_dm>,\n",
       " <Item title:\"factors for best improvement_WFL1\" type:Feature Layer Collection owner:wmburke_SyrUnivF23>,\n",
       " <Item title:\"States mdc\" type:Feature Layer Collection owner:cull4193_uok>,\n",
       " <Item title:\"States_kac\" type:Feature Layer Collection owner:como0000_uok>,\n",
       " <Item title:\"States tdf\" type:Feature Layer Collection owner:tfagin_uok>,\n",
       " <Item title:\"GPT Stormwater Infrastructure and Hydrology Public\" type:Feature Layer Collection owner:Harley_TL>,\n",
       " <Item title:\"New Jersey Electricity Informational View_WFL1\" type:Feature Layer Collection owner:cjohnson_certificate_w25>,\n",
       " <Item title:\"Major commodity sources\" type:Feature Layer Collection owner:user2.ntnu>,\n",
       " <Item title:\"USA_Major_Cities2\" type:Feature Layer Collection owner:dansnohomish>,\n",
       " <Item title:\"USA Major City Labels\" type:Feature Layer Collection owner:svc_SmartAtlas>,\n",
       " <Item title:\"states_maps_jr\" type:Feature Layer Collection owner:jroan_occc>,\n",
       " <Item title:\"NHS_AADT_WFL1\" type:Feature Layer Collection owner:cf131_dukeuniv>,\n",
       " <Item title:\"USA_Major_Cities\" type:Feature Layer Collection owner:esri_devlabs>,\n",
       " <Item title:\"Scott Fish Bowl _SFB14_ Live Draft Locations_WFL1\" type:Feature Layer Collection owner:ahepworth_personal>,\n",
       " <Item title:\"Land Use_WFL1\" type:Feature Layer Collection owner:Riley_spring25>,\n",
       " <Item title:\"USA Major Cities For Survey123\" type:Feature Layer Collection owner:rachelmkkl>,\n",
       " <Item title:\"LWVFRA Service Area\" type:Feature Layer Collection owner:tblackwe_UMW>,\n",
       " <Item title:\"Map_Health_Centers_WFL1\" type:Feature Layer Collection owner:jrama10@gwu.edu_gwu>,\n",
       " <Item title:\"Amtrak_USCities_WFL1\" type:Feature Layer Collection owner:cf131_dukeuniv>,\n",
       " <Item title:\"states_elt\" type:Feature Layer Collection owner:turn0292_uok>]"
      ]
     },
     "execution_count": 39,
     "metadata": {},
     "output_type": "execute_result"
    }
   ],
   "source": [
    "results = gis.content.search(query='US Capital Cites', max_items=20, item_type='Feature Service')"
   ]
  },
  {
   "cell_type": "code",
   "execution_count": 31,
   "id": "65cb163a",
   "metadata": {},
   "outputs": [
    {
     "name": "stdout",
     "output_type": "stream",
     "text": [
      "0 US Geothermal, Hydro, and Nuclear facilities\n",
      "1 Live Stream Gauges\n",
      "2 Power Plants in the U.S.\n",
      "3 USA Soils Map Units (NRCS)\n",
      "4 Yellowstone Hydrography\n",
      "5 Great Lakes Shorelines\n",
      "6 National Hydrography Dataset Plus High Resolution\n",
      "7 Global Dams and Reservoirs\n",
      "8 Shellfish Classification\n",
      "9 YELL HYDRO LAKES\n",
      "10 Ontario Hydro Network (OHN) 10M Watercourse\n",
      "11 AGOL_VIEW_NEW_Yellow_Fever_Vaccination_Recommendations_2013-2019\n",
      "12 Drainage Boundaries Maintained - Watersheds\n",
      "13 Utility Line\n",
      "14 CPWAdminData\n",
      "15 ORNL Existing Hydropower Assets (EHA)\n",
      "16 BASE_Hydrology\n",
      "17 National Hydrography Dataset Plus Version 2.1\n",
      "18 Global Power Plants (2018)\n",
      "19 HydroBasins Pfafstetter Level5 with lakes-Africa\n"
     ]
    },
    {
     "data": {
      "text/html": [
       "<div class=\"item_container\" style=\"height: auto; overflow: hidden; border: 1px solid #cfcfcf; border-radius: 2px; background: #f6fafa; line-height: 1.21429em; padding: 10px;\">\n",
       "                    <div class=\"item_left\" style=\"width: 210px; float: left;\">\n",
       "                       <a href='https://www.arcgis.com/home/item.html?id=81c5a9f2a2704d54a49042a44eefa5d3' target='_blank'>\n",
       "                        <img src='https://www.arcgis.com/sharing/rest//content/items/81c5a9f2a2704d54a49042a44eefa5d3/info/thumbnail/thumbnail1611812781826.jpeg' class=\"itemThumbnail\">\n",
       "                       </a>\n",
       "                    </div>\n",
       "\n",
       "                    <div class=\"item_right\"     style=\"float: none; width: auto; overflow: hidden;\">\n",
       "                        <a href='https://www.arcgis.com/home/item.html?id=81c5a9f2a2704d54a49042a44eefa5d3' target='_blank'><b>Live Stream Gauges</b>\n",
       "                        </a>\n",
       "                        <br/>Stream gauge observations of stage height and discharge contributed by the global GIS community.<br/><img src='https://www.arcgis.com/home/js/jsapi/esri/css/images/item_type_icons/featureshosted16.png' style=\"vertical-align:middle;\" width=16 height=16>Feature Layer Collection by esri_livefeeds2\n",
       "                        <br/>Last Modified: June 04, 2025\n",
       "                        <br/>83 comments, 13969154 views\n",
       "                    </div>\n",
       "                </div>\n",
       "                "
      ],
      "text/plain": [
       "<Item title:\"Live Stream Gauges\" type:Feature Layer Collection owner:esri_livefeeds2>"
      ]
     },
     "execution_count": 31,
     "metadata": {},
     "output_type": "execute_result"
    }
   ],
   "source": [
    "results = gis.content.search(query='hydro', max_items=20, item_type='Feature Service')\n",
    "for i, item in enumerate(results):\n",
    "    print(i, item.title)\n",
    "map_layer = gis.content.get(results[1].id)\n",
    "map_layer"
   ]
  },
  {
   "cell_type": "code",
   "execution_count": 34,
   "id": "d85a3cc8",
   "metadata": {},
   "outputs": [
    {
     "data": {
      "application/vnd.jupyter.widget-view+json": {
       "model_id": "e975b71623894fa0b66215ec72d3ddd2",
       "version_major": 2,
       "version_minor": 1
      },
      "text/plain": [
       "Map(center=[4706222.166681878, -8573817.429310536], extent={'xmin': -8585394.656353038, 'ymin': 4691358.594985…"
      ]
     },
     "execution_count": 34,
     "metadata": {},
     "output_type": "execute_result"
    }
   ],
   "source": [
    "map = gis.map(location='Washington, DC')\n",
    "map.basemap.basemap = 'dark-gray-vector'\n",
    "map.zoom = 11\n",
    "map.content.add(map_layer)\n",
    "map"
   ]
  },
  {
   "cell_type": "code",
   "execution_count": null,
   "id": "0e382988",
   "metadata": {},
   "outputs": [
    {
     "data": {
      "application/vnd.jupyter.widget-view+json": {
       "model_id": "cf7d265012cc4ab0b48f50fc3695f03c",
       "version_major": 2,
       "version_minor": 1
      },
      "text/plain": [
       "Scene(camera={'heading': 0.0, 'position': {'spatialReference': {'latestWkid': 3857, 'wkid': 102100}, 'x': -106…"
      ]
     },
     "execution_count": 77,
     "metadata": {},
     "output_type": "execute_result"
    },
    {
     "data": {
      "application/vnd.jupyter.widget-view+json": {
       "model_id": "52e774d09d864909a7a54cfcb9d53aad",
       "version_major": 2,
       "version_minor": 1
      },
      "text/plain": [
       "Scene(camera={'heading': 0.0, 'position': {'spatialReference': {'latestWkid': 3857, 'wkid': 102100}, 'x': -106…"
      ]
     },
     "execution_count": 78,
     "metadata": {},
     "output_type": "execute_result"
    }
   ],
   "source": [
    "scene = Scene()\n",
    "world_timezones_item = gis.content.get('312cebfea2624e108e234220b04460b8')\n",
    "scene.content.add(world_timezones_item)\n",
    "scene"
   ]
  }
 ],
 "metadata": {
  "kernelspec": {
   "display_name": "src",
   "language": "python",
   "name": "python3"
  },
  "language_info": {
   "codemirror_mode": {
    "name": "ipython",
    "version": 3
   },
   "file_extension": ".py",
   "mimetype": "text/x-python",
   "name": "python",
   "nbconvert_exporter": "python",
   "pygments_lexer": "ipython3",
   "version": "3.12.7"
  }
 },
 "nbformat": 4,
 "nbformat_minor": 5
}
